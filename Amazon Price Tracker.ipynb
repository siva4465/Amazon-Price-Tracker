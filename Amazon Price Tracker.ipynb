{
 "cells": [
  {
   "cell_type": "code",
   "execution_count": 2,
   "metadata": {
    "colab": {
     "base_uri": "https://localhost:8080/"
    },
    "id": "rAJoO6jQZtu9",
    "outputId": "7e2ac2e1-1c47-4f57-922c-67aaaf582450"
   },
   "outputs": [
    {
     "name": "stdout",
     "output_type": "stream",
     "text": [
      "Starting price tracking...\n",
      "Current Price: ₹33900.0\n",
      "Email sent successfully!\n"
     ]
    }
   ],
   "source": [
    "import requests\n",
    "from bs4 import BeautifulSoup\n",
    "import smtplib\n",
    "from email.mime.text import MIMEText\n",
    "import time\n",
    "import re\n",
    "\n",
    "def get_price(url):\n",
    "    try:\n",
    "        response = requests.get(url, headers={\n",
    "            'User-Agent': 'Mozilla/5.0 (Macintosh; Intel Mac OS X 10_15_7) AppleWebKit/605.1.15 (KHTML, like Gecko) Version/18.1 Safari/605.1.15',\n",
    "            'Accept': 'text/html,application/xhtml+xml,application/xml;q=0.9,image/webp,image/apng,*/*;q=0.8',\n",
    "            'Accept-Language': 'en-US,en;q=0.9',\n",
    "            'Accept-Encoding': 'gzip, deflate, br',\n",
    "            'Connection': 'keep-alive',\n",
    "            'DNT': '1',\n",
    "            'Cache-Control': 'max-age=0'\n",
    "        })\n",
    "        soup = BeautifulSoup(response.content, 'html.parser')\n",
    "\n",
    "        price_element = soup.select_one('.a-price-whole') #amazon\n",
    "\n",
    "\n",
    "        if price_element:\n",
    "            price_text = price_element.text.strip()\n",
    "            price_number = re.findall(r'[\\d,]+', price_text)\n",
    "            if price_number:\n",
    "                price = float(price_number[0].replace(',', ''))\n",
    "                return price\n",
    "        return None\n",
    "    except Exception as e:\n",
    "        print(f\"Error fetching price: {e}\")\n",
    "        return None\n",
    "\n",
    "def send_email(subject, body, to_email, from_email, from_password):\n",
    "    try:\n",
    "        msg = MIMEText(body)\n",
    "        msg['Subject'] = subject\n",
    "        msg['From'] = from_email\n",
    "        msg['To'] = to_email\n",
    "        server = smtplib.SMTP_SSL('smtp.gmail.com', 465)\n",
    "        server.login(from_email, from_password)\n",
    "        server.send_message(msg)\n",
    "        server.quit()\n",
    "        print(\"Email sent successfully!\")\n",
    "    except Exception as e:\n",
    "        print(f\"Error sending email: {e}\")\n",
    "\n",
    "def track_price(url, target_price, check_interval, to_email, from_email, from_password):\n",
    "    while True:\n",
    "        current_price = get_price(url)\n",
    "        if current_price is not None:\n",
    "            print(f\"Current Price: ₹{current_price}\")\n",
    "            if current_price <= target_price:\n",
    "                subject = \"Product Price Dropped!\"\n",
    "                body = f\"The price dropped to ₹{current_price}!\\nThis is below your target price of ₹{target_price}.\\nCheck the product here: {url}\"\n",
    "                send_email(subject, body, to_email, from_email, from_password)\n",
    "                break\n",
    "            else:\n",
    "                print(\"Price not yet low enough, checking again later.\")\n",
    "        else:\n",
    "            print(\"Could not retrieve the current price, will try again.\")\n",
    "\n",
    "        time.sleep(check_interval)\n",
    "\n",
    "if __name__ == \"__main__\":\n",
    "    url = \"https://amzn.in/d/0gYvCN2\"\n",
    "    target_price = 45000\n",
    "    check_interval = 3600\n",
    "\n",
    "    from_email = \"my.projects.testt@gmail.com\"\n",
    "    from_password = \"rtta abci arqp syhl\"\n",
    "    to_email = \"mohansivasanker@gmail.com\"\n",
    "\n",
    "\n",
    "    print(\"Starting price tracking...\")\n",
    "    track_price(url, target_price, check_interval, to_email, from_email, from_password)\n"
   ]
  }
 ],
 "metadata": {
  "colab": {
   "provenance": []
  },
  "kernelspec": {
   "display_name": "Python 3",
   "name": "python3"
  },
  "language_info": {
   "name": "python"
  }
 },
 "nbformat": 4,
 "nbformat_minor": 0
}
